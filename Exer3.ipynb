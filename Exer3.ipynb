{
  "nbformat": 4,
  "nbformat_minor": 0,
  "metadata": {
    "colab": {
      "provenance": []
    },
    "kernelspec": {
      "name": "python3",
      "display_name": "Python 3"
    },
    "language_info": {
      "name": "python"
    }
  },
  "cells": [
    {
      "cell_type": "code",
      "execution_count": 4,
      "metadata": {
        "colab": {
          "base_uri": "https://localhost:8080/",
          "height": 844
        },
        "id": "WM49Wvk1vZQq",
        "outputId": "efd72db3-afe7-41aa-c251-59a3276b503d"
      },
      "outputs": [
        {
          "output_type": "stream",
          "name": "stdout",
          "text": [
            "Hidden Nodes: 5, Train Accuracy: 0.964221824686941, Test Accuracy: 0.9714285714285714\n",
            "Hidden Nodes: 10, Train Accuracy: 0.9588550983899821, Test Accuracy: 0.9714285714285714\n",
            "Hidden Nodes: 15, Train Accuracy: 0.9588550983899821, Test Accuracy: 0.9714285714285714\n",
            "Hidden Nodes: 20, Train Accuracy: 0.9588550983899821, Test Accuracy: 0.9714285714285714\n",
            "Hidden Nodes: 25, Train Accuracy: 0.9588550983899821, Test Accuracy: 0.9714285714285714\n",
            "Hidden Nodes: 30, Train Accuracy: 0.960644007155635, Test Accuracy: 0.9714285714285714\n",
            "Hidden Layers: 1, Train Accuracy: 0.9588550983899821, Test Accuracy: 0.9714285714285714\n",
            "Hidden Layers: 2, Train Accuracy: 0.964221824686941, Test Accuracy: 0.9642857142857143\n",
            "Hidden Layers: 3, Train Accuracy: 0.9677996422182469, Test Accuracy: 0.9714285714285714\n",
            "Hidden Layers: 4, Train Accuracy: 0.9892665474060823, Test Accuracy: 0.9785714285714285\n",
            "Hidden Layers: 5, Train Accuracy: 0.9964221824686941, Test Accuracy: 0.9857142857142858\n",
            "Hidden Layers: 6, Train Accuracy: 0.9946332737030411, Test Accuracy: 0.9714285714285714\n",
            "Hidden Layers: 7, Train Accuracy: 0.998211091234347, Test Accuracy: 0.9571428571428572\n",
            "Hidden Layers: 8, Train Accuracy: 0.998211091234347, Test Accuracy: 0.9714285714285714\n",
            "Hidden Layers: 9, Train Accuracy: 0.9749552772808586, Test Accuracy: 0.9785714285714285\n",
            "Hidden Layers: 10, Train Accuracy: 0.9785330948121646, Test Accuracy: 0.9571428571428572\n",
            "Dropout Rate: 0.0, Train Accuracy: 0.9892665474060823, Test Accuracy: 0.9785714285714285\n",
            "Dropout Rate: 0.1, Train Accuracy: 0.9731663685152058, Test Accuracy: 0.9857142857142858\n",
            "Dropout Rate: 0.2, Train Accuracy: 0.9785330948121646, Test Accuracy: 0.9714285714285714\n",
            "Dropout Rate: 0.3, Train Accuracy: 0.9695885509838998, Test Accuracy: 0.9857142857142858\n",
            "Dropout Rate: 0.4, Train Accuracy: 0.9660107334525939, Test Accuracy: 0.9714285714285714\n",
            "Activation Function: identity, Train Accuracy: 0.9588550983899821, Test Accuracy: 0.9714285714285714\n",
            "Activation Function: logistic, Train Accuracy: 0.962432915921288, Test Accuracy: 0.9642857142857143\n",
            "Activation Function: tanh, Train Accuracy: 0.962432915921288, Test Accuracy: 0.9642857142857143\n",
            "Activation Function: relu, Train Accuracy: 0.964221824686941, Test Accuracy: 0.9642857142857143\n"
          ]
        },
        {
          "output_type": "display_data",
          "data": {
            "text/plain": [
              "<Figure size 600x400 with 2 Axes>"
            ],
            "image/png": "[encoded data removed]"
          },
          "metadata": {}
        }
      ],
      "source": [
        "import numpy as np\n",
        "from sklearn.model_selection import train_test_split\n",
        "from sklearn.preprocessing import MinMaxScaler\n",
        "from sklearn.neural_network import MLPClassifier\n",
        "from sklearn.metrics import confusion_matrix, accuracy_score\n",
        "import matplotlib.pyplot as plt\n",
        "import seaborn as sns\n",
        "\n",
        "# Load pre-processed data\n",
        "df = pd.read_csv('/content/breast-cancer.txt')\n",
        "df.dropna(inplace=True)\n",
        "df = df._get_numeric_data()\n",
        "df.drop(columns=['id'], inplace=True)\n",
        "\n",
        "X = np.array(df.drop(columns=['class']))\n",
        "y = np.array(df['class'] == 4).astype(int)\n",
        "\n",
        "scaler = MinMaxScaler(feature_range=(0, 1))\n",
        "X = scaler.fit_transform(X)\n",
        "\n",
        "# Split the data into training and testing sets\n",
        "X_train, X_test, y_train, y_test = train_test_split(X, y, test_size=0.2, random_state=42)\n",
        "\n",
        "# Task 4: Test and evaluate the network's performance with varying nodes\n",
        "nodes_list = [5, 10, 15, 20, 25, 30]\n",
        "for nodes in nodes_list:\n",
        "    clf = MLPClassifier(hidden_layer_sizes=(nodes,), random_state=42, max_iter=1000)\n",
        "    clf.fit(X_train, y_train)\n",
        "\n",
        "    y_train_pred = clf.predict(X_train)\n",
        "    y_test_pred = clf.predict(X_test)\n",
        "\n",
        "    train_accuracy = accuracy_score(y_train, y_train_pred)\n",
        "    test_accuracy = accuracy_score(y_test, y_test_pred)\n",
        "\n",
        "    print(f\"Hidden Nodes: {nodes}, Train Accuracy: {train_accuracy}, Test Accuracy: {test_accuracy}\")\n",
        "\n",
        "# Task 5: Progressively increase the number of layers\n",
        "layers_list = list(range(1, 11))\n",
        "for num_layers in layers_list:\n",
        "    clf = MLPClassifier(hidden_layer_sizes=(10,) * num_layers, random_state=42, max_iter=1000)\n",
        "    clf.fit(X_train, y_train)\n",
        "\n",
        "    y_train_pred = clf.predict(X_train)\n",
        "    y_test_pred = clf.predict(X_test)\n",
        "\n",
        "    train_accuracy = accuracy_score(y_train, y_train_pred)\n",
        "    test_accuracy = accuracy_score(y_test, y_test_pred)\n",
        "\n",
        "    print(f\"Hidden Layers: {num_layers}, Train Accuracy: {train_accuracy}, Test Accuracy: {test_accuracy}\")\n",
        "\n",
        "# Task 7: Design a network with 4 hidden layers and introduce dropout\n",
        "dropout_rates = [0.0, 0.1, 0.2, 0.3, 0.4]\n",
        "for rate in dropout_rates:\n",
        "    clf = MLPClassifier(hidden_layer_sizes=(10, 10, 10, 10), random_state=42, max_iter=1000,\n",
        "                        alpha=rate, solver='adam', activation='relu', learning_rate_init=0.001)\n",
        "    clf.fit(X_train, y_train)\n",
        "\n",
        "    y_train_pred = clf.predict(X_train)\n",
        "    y_test_pred = clf.predict(X_test)\n",
        "\n",
        "    train_accuracy = accuracy_score(y_train, y_train_pred)\n",
        "    test_accuracy = accuracy_score(y_test, y_test_pred)\n",
        "\n",
        "    print(f\"Dropout Rate: {rate}, Train Accuracy: {train_accuracy}, Test Accuracy: {test_accuracy}\")\n",
        "\n",
        "# Task 8: Try different activation functions for the hidden layers\n",
        "activation_functions = ['identity', 'logistic', 'tanh', 'relu']\n",
        "for activation in activation_functions:\n",
        "    clf = MLPClassifier(hidden_layer_sizes=(10, 10), random_state=42, max_iter=1000,\n",
        "                        activation=activation)\n",
        "    clf.fit(X_train, y_train)\n",
        "\n",
        "    y_train_pred = clf.predict(X_train)\n",
        "    y_test_pred = clf.predict(X_test)\n",
        "\n",
        "    train_accuracy = accuracy_score(y_train, y_train_pred)\n",
        "    test_accuracy = accuracy_score(y_test, y_test_pred)\n",
        "\n",
        "    print(f\"Activation Function: {activation}, Train Accuracy: {train_accuracy}, Test Accuracy: {test_accuracy}\")\n",
        "\n",
        "# Task 9: Visualize the results in a confusion matrix\n",
        "clf = MLPClassifier(hidden_layer_sizes=(10, 10), random_state=42, max_iter=1000, activation='relu')\n",
        "clf.fit(X_train, y_train)\n",
        "y_test_pred = clf.predict(X_test)\n",
        "\n",
        "conf_matrix = confusion_matrix(y_test, y_test_pred)\n",
        "plt.figure(figsize=(6, 4))\n",
        "sns.heatmap(conf_matrix, annot=True, fmt='d', cmap='Blues')\n",
        "plt.xlabel('Predicted')\n",
        "plt.ylabel('True')\n",
        "plt.title('Confusion Matrix')\n",
        "plt.show()"
      ]
    }
  ]
}